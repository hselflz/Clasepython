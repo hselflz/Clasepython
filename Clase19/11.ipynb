{
  "nbformat": 4,
  "nbformat_minor": 0,
  "metadata": {
    "colab": {
      "provenance": [],
      "authorship_tag": "ABX9TyMkhwpqPzQX1QOwS2lPvKa6",
      "include_colab_link": true
    },
    "kernelspec": {
      "name": "python3",
      "display_name": "Python 3"
    },
    "language_info": {
      "name": "python"
    }
  },
  "cells": [
    {
      "cell_type": "markdown",
      "metadata": {
        "id": "view-in-github",
        "colab_type": "text"
      },
      "source": [
        "<a href=\"https://colab.research.google.com/github/hselflz/Clasepython/blob/main/Clase19/11.ipynb\" target=\"_parent\"><img src=\"https://colab.research.google.com/assets/colab-badge.svg\" alt=\"Open In Colab\"/></a>"
      ]
    },
    {
      "cell_type": "code",
      "execution_count": 2,
      "metadata": {
        "id": "vvDnJ7GPk1I7"
      },
      "outputs": [],
      "source": [
        "import numpy as np\n",
        "import matplotlib.pyplot as plt\n",
        "import imageio.v2 as imageio"
      ]
    },
    {
      "cell_type": "code",
      "source": [
        "# Establecer las condiciones del modelo\n",
        "size = 103\n",
        "pos = round(size/2)\n",
        "B = np.zeros(size, dtype=int)\n",
        "B[pos]=1 #Condición inicial"
      ],
      "metadata": {
        "id": "N_gJq5bBl9Ph"
      },
      "execution_count": 5,
      "outputs": []
    },
    {
      "cell_type": "code",
      "source": [
        "class Automata1D:\n",
        "  def __init__(self,B,name, size):\n",
        "    #Constructor de la clase\n",
        "    self.B = B\n",
        "    self.name=name\n",
        "    self.size = len(self.B)\n",
        "    self.frames = [] #Lista donde se gurardan las imagenes para la simulación\n",
        "    self.nsteps = self.size #pasos de simulación\n",
        "\n",
        "  def Rule104(self,L,C,R):\n",
        "    if L == 1 and C == 0 and R == 0:\n",
        "      return 1\n",
        "    elif L==0 and C==1 and R==0:\n",
        "      return 1\n",
        "    elif L==0 and C==0 and R==1:\n",
        "      return 1\n",
        "    else:\n",
        "      return 0\n",
        "\n",
        "    def plot(self,C):\n",
        "      fig.ax=pltplots(figsize=(8,6))\n",
        "      ax.imshow(C,animated=True, aspect= \"auto\", cmap = \"gray\")\n",
        "      ax.axis(\"off\")\n",
        "      plt.close(fig) #cerrar el canvas para que no se muestre\n",
        "\n",
        "    #Convertir la figura en imagen y guardar los frames\n",
        "    fig.canvas.draw()\n",
        "    image = np.frombuffer(fig.canvas.tostring_rgb(), dtype=np.uint8)\n",
        "    image = image.reshape(fig.canvas.get_width_height()[::-1] + (3,))\n",
        "    return image\n",
        "\n",
        "    def Run(self):\n",
        "      C = np.zeros((self.size, self.size), dtype=int)\n",
        "      A = np.copy(self.B)\n",
        "      for k in range(self.nsteps):\n",
        "        C[k] = np.copy(A)\n",
        "        #Se guardan las imagenes para la simulación\n",
        "        self.frames.append(self.plot(C))\n",
        "        if self.name == 'Rule104':\n",
        "          for i in range(self.size):\n",
        "\n",
        "            if i == 0:\n",
        "              A[i] = self.Rule104(A[-1],A[0],A[1])\n",
        "\n",
        "            elif i == self.size -1:\n",
        "              A[i] = self.Rule104(A[-2],A[-1],A[0])\n",
        "\n",
        "            else:\n",
        "              A[i] = self.Rule104(A[i-1],A[i],A[i+1])\n",
        "\n",
        "def save_video(self,filename='Automata1D.mp4', fps = 10):\n",
        "  imageio.mimsave(filename, self.frames, fps=fps)\n",
        "  print(f\"Video Guardado como {filename}\")\n",
        "\n",
        "automata = Automata1D(B, \"Rule104\", size)\n",
        "automata.Run()\n",
        "automata.save_video(\"Miprimervideo\")\n",
        "print(\"Video Guardado\")"
      ],
      "metadata": {
        "colab": {
          "base_uri": "https://localhost:8080/",
          "height": 211
        },
        "id": "G-4wamOMrwTB",
        "outputId": "2094cd42-5b2f-4da7-d580-3e9d1e6fee97"
      },
      "execution_count": 21,
      "outputs": [
        {
          "output_type": "error",
          "ename": "AttributeError",
          "evalue": "'Automata1D' object has no attribute 'Run'",
          "traceback": [
            "\u001b[0;31m---------------------------------------------------------------------------\u001b[0m",
            "\u001b[0;31mAttributeError\u001b[0m                            Traceback (most recent call last)",
            "\u001b[0;32m<ipython-input-21-fb6f91ee94bc>\u001b[0m in \u001b[0;36m<cell line: 56>\u001b[0;34m()\u001b[0m\n\u001b[1;32m     54\u001b[0m \u001b[0;34m\u001b[0m\u001b[0m\n\u001b[1;32m     55\u001b[0m \u001b[0mautomata\u001b[0m \u001b[0;34m=\u001b[0m \u001b[0mAutomata1D\u001b[0m\u001b[0;34m(\u001b[0m\u001b[0mB\u001b[0m\u001b[0;34m,\u001b[0m \u001b[0;34m\"Rule104\"\u001b[0m\u001b[0;34m,\u001b[0m \u001b[0msize\u001b[0m\u001b[0;34m)\u001b[0m\u001b[0;34m\u001b[0m\u001b[0;34m\u001b[0m\u001b[0m\n\u001b[0;32m---> 56\u001b[0;31m \u001b[0mautomata\u001b[0m\u001b[0;34m.\u001b[0m\u001b[0mRun\u001b[0m\u001b[0;34m(\u001b[0m\u001b[0;34m)\u001b[0m\u001b[0;34m\u001b[0m\u001b[0;34m\u001b[0m\u001b[0m\n\u001b[0m\u001b[1;32m     57\u001b[0m \u001b[0mautomata\u001b[0m\u001b[0;34m.\u001b[0m\u001b[0msave_video\u001b[0m\u001b[0;34m(\u001b[0m\u001b[0;34m\"Miprimervideo\"\u001b[0m\u001b[0;34m)\u001b[0m\u001b[0;34m\u001b[0m\u001b[0;34m\u001b[0m\u001b[0m\n\u001b[1;32m     58\u001b[0m \u001b[0mprint\u001b[0m\u001b[0;34m(\u001b[0m\u001b[0;34m\"Video Guardado\"\u001b[0m\u001b[0;34m)\u001b[0m\u001b[0;34m\u001b[0m\u001b[0;34m\u001b[0m\u001b[0m\n",
            "\u001b[0;31mAttributeError\u001b[0m: 'Automata1D' object has no attribute 'Run'"
          ]
        }
      ]
    }
  ]
}