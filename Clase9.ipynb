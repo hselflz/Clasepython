{
  "cells": [
    {
      "cell_type": "markdown",
      "metadata": {
        "id": "view-in-github",
        "colab_type": "text"
      },
      "source": [
        "<a href=\"https://colab.research.google.com/github/hselflz/Clasepython/blob/main/Clase9.ipynb\" target=\"_parent\"><img src=\"https://colab.research.google.com/assets/colab-badge.svg\" alt=\"Open In Colab\"/></a>"
      ]
    },
    {
      "cell_type": "markdown",
      "id": "0c4018bd",
      "metadata": {
        "id": "0c4018bd"
      },
      "source": [
        "<font color=\"Red\" face=\"Comic Sans MS,arial\">\n",
        "  <h1 align=\"center\"><i>Numpy </i></h1>\n",
        "  </font>\n",
        "  \n",
        "> Elaborado por: Jesús Iván Coss Calderón. mat_ing_coss@ciencias.unam.mx"
      ]
    },
    {
      "cell_type": "markdown",
      "id": "d572795c",
      "metadata": {
        "id": "d572795c"
      },
      "source": [
        "**Objetivo general**\n",
        "\n",
        "* Aprender los fundamentos de la biblioteca de Numpy\n",
        "\n",
        "**Objetivos particulares**\n",
        "\n",
        "* Entender el uso de los métodos de Numpy"
      ]
    },
    {
      "cell_type": "markdown",
      "id": "001e54d2",
      "metadata": {
        "id": "001e54d2"
      },
      "source": [
        "[**Regresa al notebook principal**](https://github.com/seismomat/HerramientasComputacionales/blob/main/TemarioDePython/Temario%20de%20Python.ipynb)"
      ]
    },
    {
      "cell_type": "markdown",
      "id": "b76ffc8a",
      "metadata": {
        "id": "b76ffc8a"
      },
      "source": [
        "<a name='c1'></a>\n",
        "\n",
        "## Contenido\n",
        "\n",
        "- [¿Qué es NumPy?](#1)\n",
        "    - [¿Por qué usar NumPy?](#1-1)\n",
        "    - [¿Por qué NumPy es más rápido que las listas?](#1-2)\n",
        "    - [Instalación de Numpy](#1-3)\n",
        "    - [Importando Numpy](#1-4)\n",
        "- [Crear un Objeto ndarray de NumPy](#2)\n",
        "    - [Arreglos 0-D](#2-1)\n",
        "    - [Arreglos 1-D](#2-2)\n",
        "    - [Arreglos 2-D](#2-3)\n",
        "    - [Arreglos 3-D](#2-4)\n",
        "    - [Checando las dimensiones de los arreglos](#2-5)\n",
        "    - [Arreglos de dimensión mayor](#2-6)\n",
        "- [Acceso a elementos](#3)\n",
        "    - [Arreglos 1-D](#3-1)\n",
        "    - [Arreglos 2-D](#3-2)\n",
        "    - [Arreglos 3-D](#3-3)\n",
        "- [Slicing](#4)\n",
        "    - [Arreglos 1-D](#4-1)\n",
        "        - [Paso](#4-1-1)\n",
        "    - [Arreglos 2-D](#4-2)\n",
        "- [Buscando en arreglos](#5)\n",
        "- [Filtrado](#6)"
      ]
    },
    {
      "cell_type": "markdown",
      "id": "269975e0",
      "metadata": {
        "id": "269975e0"
      },
      "source": [
        "<a name='1'></a>\n",
        "\n",
        "# ¿Qué es NumPy?\n",
        "[regresar al contenido](#c1)\n",
        "\n",
        "NumPy es una biblioteca de Python utilizada para trabajar con matrices.\n",
        "\n",
        "También tiene funciones para trabajar en el ámbito del álgebra lineal, la transformada de Fourier y las matrices.\n",
        "\n",
        "NumPy fue creado en 2005 por Travis Oliphant. Es un proyecto de código abierto y puedes utilizarlo libremente.\n",
        "\n",
        "NumPy significa \"Numerical Python\" (Python Numérico)."
      ]
    },
    {
      "cell_type": "markdown",
      "id": "fb9dfa06",
      "metadata": {
        "id": "fb9dfa06"
      },
      "source": [
        "<a name='1-1'></a>\n",
        "\n",
        "## ¿Por qué usar NumPy?\n",
        "[regresar al contenido](#c1)\n",
        "\n",
        "En Python, tenemos listas que cumplen la función de arrays, pero son lentas de procesar.\n",
        "\n",
        "NumPy tiene como objetivo proporcionar un objeto de array que sea hasta 50 veces más rápido que las listas tradicionales de Python.\n",
        "\n",
        "El objeto de array en NumPy se llama ndarray y proporciona muchas funciones de soporte que facilitan trabajar con ndarray.\n",
        "\n",
        "Los arrays se utilizan con mucha frecuencia en la ciencia de datos, donde la velocidad y los recursos son muy importantes."
      ]
    },
    {
      "cell_type": "markdown",
      "id": "afa98fb0",
      "metadata": {
        "id": "afa98fb0"
      },
      "source": [
        "<a name='1-2'></a>\n",
        "\n",
        "## ¿Por qué NumPy es más rápido que las listas?\n",
        "[regresar al contenido](#c1)\n",
        "\n",
        "Los arrays de NumPy se almacenan en un lugar continuo en la memoria, a diferencia de las listas, por lo que los procesos pueden acceder y manipularlos de manera muy eficiente.\n",
        "\n",
        "Este comportamiento se llama \"localidad de referencia\" en informática.\n",
        "\n",
        "Esta es la razón principal por la que NumPy es más rápido que las listas. Además, está optimizado para funcionar con las últimas arquitecturas de CPU."
      ]
    },
    {
      "cell_type": "markdown",
      "id": "1e4b0d87",
      "metadata": {
        "id": "1e4b0d87"
      },
      "source": [
        "<a name='1-3'></a>\n",
        "\n",
        "## Instalación de Numpy\n",
        "[regresar al contenido](#c1)\n",
        "\n",
        "> pip install numpy"
      ]
    },
    {
      "cell_type": "markdown",
      "id": "1afce1d8",
      "metadata": {
        "id": "1afce1d8"
      },
      "source": [
        "<a name='1-4'></a>\n",
        "\n",
        "## Importando Numpy\n",
        "[regresar al contenido](#c1)\n",
        "\n",
        "> import numpy\n",
        "\n",
        "o también se puede importar con algún alias\n",
        "\n",
        "> import numpy as np"
      ]
    },
    {
      "cell_type": "markdown",
      "id": "d003deb7",
      "metadata": {
        "id": "d003deb7"
      },
      "source": [
        "<a name='2'></a>\n",
        "\n",
        "# Crear un Objeto ndarray de NumPy\n",
        "[regresar al contenido](#c1)\n",
        "\n",
        "`NumPy` se utiliza para trabajar con arrays. El objeto de array en NumPy se llama ndarray.\n",
        "\n",
        "Podemos crear un objeto ndarray de NumPy utilizando la función `array()`."
      ]
    },
    {
      "cell_type": "code",
      "execution_count": null,
      "id": "a7c7c289",
      "metadata": {
        "id": "a7c7c289"
      },
      "outputs": [],
      "source": [
        "import numpy as np"
      ]
    },
    {
      "cell_type": "code",
      "execution_count": 10,
      "id": "64fb5e5d",
      "metadata": {
        "id": "64fb5e5d",
        "outputId": "d7204681-f812-42ef-96c6-5b59bb927783",
        "colab": {
          "base_uri": "https://localhost:8080/"
        }
      },
      "outputs": [
        {
          "output_type": "execute_result",
          "data": {
            "text/plain": [
              "array([1., 1., 1., 1., 1., 1., 1., 1., 1., 1., 1., 1., 1., 1., 1., 1.])"
            ]
          },
          "metadata": {},
          "execution_count": 10
        }
      ],
      "source": [
        "import numpy as np\n",
        "\n",
        "arreglo = np.linspace(1,1,16)\n",
        "arreglo"
      ]
    },
    {
      "cell_type": "code",
      "execution_count": 16,
      "id": "f0d7e5f2",
      "metadata": {
        "id": "f0d7e5f2",
        "outputId": "d2e8e33a-59ee-4c9f-f508-f605804d3c7d",
        "colab": {
          "base_uri": "https://localhost:8080/"
        }
      },
      "outputs": [
        {
          "output_type": "execute_result",
          "data": {
            "text/plain": [
              "array([[1.],\n",
              "       [1.],\n",
              "       [1.],\n",
              "       [1.],\n",
              "       [1.],\n",
              "       [1.],\n",
              "       [1.],\n",
              "       [1.],\n",
              "       [1.],\n",
              "       [1.],\n",
              "       [1.],\n",
              "       [1.],\n",
              "       [1.],\n",
              "       [1.],\n",
              "       [1.],\n",
              "       [1.]])"
            ]
          },
          "metadata": {},
          "execution_count": 16
        }
      ],
      "source": [
        "arreglo.reshape(16,1)"
      ]
    },
    {
      "cell_type": "markdown",
      "id": "005406f1",
      "metadata": {
        "id": "005406f1"
      },
      "source": [
        "<a name='2-1'></a>\n",
        "\n",
        "## Arreglos 0-D\n",
        "[regresar al contenido](#c1)\n",
        "\n",
        "Los arrays 0-D, o escalares, son los elementos en un array. Cada valor en un array se considera un array 0-D en sí mismo. En otras palabras, un array puede contener múltiples escalares como sus elementos."
      ]
    },
    {
      "cell_type": "code",
      "execution_count": 20,
      "id": "a7fb1469",
      "metadata": {
        "id": "a7fb1469",
        "outputId": "db0f4a02-3980-41c2-daf1-700dacf63047",
        "colab": {
          "base_uri": "https://localhost:8080/"
        }
      },
      "outputs": [
        {
          "output_type": "stream",
          "name": "stdout",
          "text": [
            "[ 2  5  1  8  9 10 15  4  6]\n"
          ]
        },
        {
          "output_type": "execute_result",
          "data": {
            "text/plain": [
              "array([False, False, False,  True,  True,  True,  True, False,  True])"
            ]
          },
          "metadata": {},
          "execution_count": 20
        }
      ],
      "source": [
        "arr = np.array([2,5,1,8,9,10,15,4,6])\n",
        "print(arr)\n",
        "arr>5\n",
        "#mascara booleana\n"
      ]
    },
    {
      "cell_type": "markdown",
      "id": "404c4858",
      "metadata": {
        "id": "404c4858"
      },
      "source": [
        "<a name='2-2'></a>\n",
        "\n",
        "## Arreglos 1-D\n",
        "[regresar al contenido](#c1)\n",
        "\n",
        "Un array que tiene arrays 0-D (escalares) como sus elementos se llama array unidimensional o 1-D. En otras palabras, es un array que contiene valores individuales en lugar de secuencias de valores."
      ]
    },
    {
      "cell_type": "code",
      "execution_count": 94,
      "id": "fe1699a4",
      "metadata": {
        "id": "fe1699a4",
        "outputId": "c3122135-50aa-4ed4-b678-c3abd48bd29a",
        "colab": {
          "base_uri": "https://localhost:8080/",
          "height": 106
        }
      },
      "outputs": [
        {
          "output_type": "error",
          "ename": "SyntaxError",
          "evalue": "invalid syntax (<ipython-input-94-4a0076e388e4>, line 90)",
          "traceback": [
            "\u001b[0;36m  File \u001b[0;32m\"<ipython-input-94-4a0076e388e4>\"\u001b[0;36m, line \u001b[0;32m90\u001b[0m\n\u001b[0;31m    xi = prodesc(a[[i,:]],b)\u001b[0m\n\u001b[0m                      ^\u001b[0m\n\u001b[0;31mSyntaxError\u001b[0m\u001b[0;31m:\u001b[0m invalid syntax\n"
          ]
        }
      ],
      "source": [
        "MB = arr>5\n",
        "print(arr[arr==2])\n",
        "print(arr[arr%2 == 0])\n",
        "arr[MB]\n",
        "print(arr[arr<5])\n",
        "# arr([arr<10]and [arr>5])\n",
        "\n",
        "arr1 = arr[(arr<10)]\n",
        "arr1[(arr1>5)]\n",
        "\n",
        "arr1=np.copy(arr)\n",
        "arr1=arr1[(arr1<10)]\n",
        "arr1=arr1[(arr1>5)]\n",
        "\n",
        "#Comaandos de utilidad\n",
        "\n",
        "arr2=np.where(arr%2==0)\n",
        "arr2\n",
        "\n",
        "print(arr)\n",
        "arr = np.sort(arr)\n",
        "print(arr)\n",
        "index = np.searchsorted(arr,6) # Devuekve el indice de el numero que estemos buscando\n",
        "index\n",
        "\n",
        "#sum median mean\n",
        "\n",
        "suma = np.sum(arr)\n",
        "print(suma)\n",
        "\n",
        "mediana = np.median(arr)\n",
        "print(mediana)\n",
        "\n",
        "mean = np.mean(arr)\n",
        "print(mean)\n",
        "\n",
        "#raiz = np.sqrt(arr)\n",
        "#print(raiz)\n",
        "\n",
        "print(arr+arr)\n",
        "\n",
        "print(arr**2)\n",
        "\n",
        "a = np.array([1,2,3,4,5,6,7,8,9,10,11,12,13])\n",
        "a = np.arange(20)\n",
        "b = np.arange(20,40)\n",
        "b.shape,a.shape\n",
        "\n",
        "prodesc = a[0] * b[0]\n",
        "prodesc = prodesc + a[1]*b[1]\n",
        "prodesc = prodesc + a[2]*b[2]\n",
        "print(prodesc)\n",
        "\n",
        "for i in range(len(a)):\n",
        "  j = i\n",
        "  prodesc = prodesc+a[j]*b[j]\n",
        "print(prodesc)\n",
        "\n",
        "a = np.ones(20)\n",
        "b = np.ones(20)\n",
        "prodesc = 0.0\n",
        "n= len(a)\n",
        "\n",
        "for i in range(n):\n",
        "  prodesc = prodesc +a[i]*b[i]\n",
        "\n",
        "print(prodesc)\n",
        "\n",
        "def prodescalar(a,b):\n",
        "  if len(a) == len(b):\n",
        "    prodesc=0.0\n",
        "    n=len(a)\n",
        "\n",
        "    for i in range(len(a)):\n",
        "      prodesc = prodesc+a[i]*b[i]\n",
        "\n",
        "    print(prodesc)\n",
        "    return(prodesc)\n",
        "  else:\n",
        "    print(\"No se puede hacer la operación\")\n",
        "    return\n",
        "\n",
        "a = np.array([[1,1,1],[1,1,1],[1,1,1]])\n",
        "print(a)\n",
        "b = np.array([[1],[2],[3]])\n",
        "print(b)\n",
        "\n",
        "def matrizvector(a,b):\n",
        "  for i in range(len(b)):\n",
        "    xi = prodesc(a[[i,:]],b)\n",
        "    return x\n",
        "matrizvector(a,b)"
      ]
    },
    {
      "cell_type": "markdown",
      "id": "35e019d4",
      "metadata": {
        "id": "35e019d4"
      },
      "source": [
        "<a name='2-3'></a>\n",
        "\n",
        "## Arreglos 2-D\n",
        "[regresar al contenido](#c1)\n",
        "\n",
        "Un array que tiene arrays 1-D como sus elementos se llama array 2-D.\n",
        "\n",
        "A menudo se utilizan para representar matrices o tensores de segundo orden."
      ]
    },
    {
      "cell_type": "code",
      "execution_count": null,
      "id": "374d7927",
      "metadata": {
        "id": "374d7927",
        "outputId": "dcced4c5-99bc-4d73-8049-5ea568a09705"
      },
      "outputs": [
        {
          "name": "stdout",
          "output_type": "stream",
          "text": [
            "[[1 2 3]\n",
            " [4 5 6]]\n"
          ]
        }
      ],
      "source": [
        "arr = np.array([[1, 2, 3], [4, 5, 6]])\n",
        "\n",
        "print(arr)"
      ]
    },
    {
      "cell_type": "markdown",
      "id": "52fc994d",
      "metadata": {
        "id": "52fc994d"
      },
      "source": [
        "<a name='2-4'></a>\n",
        "\n",
        "## Arreglos 3-D\n",
        "[regresar al contenido](#c1)\n",
        "\n",
        "Un array que tiene matrices 2-D como sus elementos se llama array 3-D.\n",
        "\n",
        "A menudo se utilizan para representar un tensor de tercer orden."
      ]
    },
    {
      "cell_type": "code",
      "execution_count": null,
      "id": "eac0b498",
      "metadata": {
        "id": "eac0b498",
        "outputId": "d5a7caed-5907-4249-c769-27b225ada671"
      },
      "outputs": [
        {
          "name": "stdout",
          "output_type": "stream",
          "text": [
            "[[[1 2 3]\n",
            "  [4 5 6]]\n",
            "\n",
            " [[1 2 3]\n",
            "  [4 5 6]]]\n"
          ]
        }
      ],
      "source": [
        "arr = np.array([[[1, 2, 3], [4, 5, 6]], [[1, 2, 3], [4, 5, 6]]])\n",
        "\n",
        "print(arr)"
      ]
    },
    {
      "cell_type": "markdown",
      "id": "2e3ac2bd",
      "metadata": {
        "id": "2e3ac2bd"
      },
      "source": [
        "<a name='2-5'></a>\n",
        "\n",
        "## Checando las dimensiones de los arreglos\n",
        "[regresar al contenido](#c1)"
      ]
    },
    {
      "cell_type": "code",
      "execution_count": null,
      "id": "0d68b896",
      "metadata": {
        "id": "0d68b896",
        "outputId": "c2baf7ac-2b4e-4a8d-b787-057b6407a933"
      },
      "outputs": [
        {
          "name": "stdout",
          "output_type": "stream",
          "text": [
            "0 ()\n",
            "1 (5,)\n",
            "2 (2, 3)\n",
            "3 (2, 2, 3)\n"
          ]
        }
      ],
      "source": [
        "a = np.array(42)\n",
        "b = np.array([1, 2, 3, 4, 5])\n",
        "c = np.array([[1, 2, 3], [4, 5, 6]])\n",
        "d = np.array([[[1, 2, 3], [4, 5, 6]], [[1, 2, 3], [4, 5, 6]]])\n",
        "\n",
        "print(a.ndim,a.shape)\n",
        "print(b.ndim,b.shape)\n",
        "print(c.ndim,c.shape)\n",
        "print(d.ndim,d.shape)"
      ]
    },
    {
      "cell_type": "markdown",
      "id": "309193c6",
      "metadata": {
        "id": "309193c6"
      },
      "source": [
        "<a name='2-6'></a>\n",
        "\n",
        "## Arreglos de dimensión mayor\n",
        "[regresar al contenido](#c1)"
      ]
    },
    {
      "cell_type": "code",
      "execution_count": null,
      "id": "a888e6be",
      "metadata": {
        "id": "a888e6be",
        "outputId": "94d94b04-c896-46be-b610-0ff8f6b8b11a"
      },
      "outputs": [
        {
          "name": "stdout",
          "output_type": "stream",
          "text": [
            "[[[[[1 2 3 4]]]]]\n",
            "number of dimensions : 5\n"
          ]
        }
      ],
      "source": [
        "arr = np.array([1, 2, 3, 4], ndmin=5)\n",
        "\n",
        "print(arr)\n",
        "print('number of dimensions :', arr.ndim)"
      ]
    },
    {
      "cell_type": "markdown",
      "id": "334a05cf",
      "metadata": {
        "id": "334a05cf"
      },
      "source": [
        "<a name='3'></a>\n",
        "\n",
        "# Acceso a elementos\n",
        "[regresar al contenido](#c1)\n",
        "\n",
        "La indexación de arrays es similar a acceder a un elemento de un array.\n",
        "\n",
        "Puedes acceder a un elemento de un array haciendo referencia a su número de índice.\n",
        "\n",
        "Los índices en los arrays de NumPy comienzan en 0, lo que significa que el primer elemento tiene un índice 0, el segundo tiene un índice 1, y así sucesivamente."
      ]
    },
    {
      "cell_type": "markdown",
      "id": "871a1629",
      "metadata": {
        "id": "871a1629"
      },
      "source": [
        "<a name='3-1'></a>\n",
        "\n",
        "## Arreglos 1-D\n",
        "[regresar al contenido](#c1)"
      ]
    },
    {
      "cell_type": "code",
      "execution_count": null,
      "id": "a6c12ba3",
      "metadata": {
        "id": "a6c12ba3",
        "outputId": "64e0d306-d84e-4797-ae03-613798f6dd2b"
      },
      "outputs": [
        {
          "name": "stdout",
          "output_type": "stream",
          "text": [
            "1\n"
          ]
        }
      ],
      "source": [
        "arr = np.array([1, 2, 3, 4])\n",
        "\n",
        "print(arr[0])"
      ]
    },
    {
      "cell_type": "markdown",
      "id": "2c068b12",
      "metadata": {
        "id": "2c068b12"
      },
      "source": [
        "<a name='3-2'></a>\n",
        "\n",
        "## Arreglos 2-D\n",
        "[regresar al contenido](#c1)\n",
        "\n",
        "Para acceder a elementos de arrays 2-D, podemos usar enteros separados por comas que representan la dimensión y el índice del elemento.\n",
        "\n",
        "Piensa en los arrays 2-D como una tabla con filas y columnas, donde la dimensión representa la fila y el índice representa la columna."
      ]
    },
    {
      "cell_type": "code",
      "execution_count": null,
      "id": "022ca5d5",
      "metadata": {
        "id": "022ca5d5",
        "outputId": "edb0688b-4f82-4995-a8a3-8ab94e6ecf97"
      },
      "outputs": [
        {
          "name": "stdout",
          "output_type": "stream",
          "text": [
            "2do elemento de la 1er Fila:  2\n"
          ]
        }
      ],
      "source": [
        "arr = np.array([[1,2,3,4,5], [6,7,8,9,10]])\n",
        "\n",
        "print('2do elemento de la 1er Fila: ', arr[0, 1])"
      ]
    },
    {
      "cell_type": "code",
      "execution_count": null,
      "id": "d5da39b6",
      "metadata": {
        "id": "d5da39b6",
        "outputId": "cd9cb41c-82f6-4c66-e630-5c1b7799c42b"
      },
      "outputs": [
        {
          "name": "stdout",
          "output_type": "stream",
          "text": [
            "Quinto elemento de la 2da Fila 10\n"
          ]
        }
      ],
      "source": [
        "print('Quinto elemento de la 2da Fila', arr[1, 4])"
      ]
    },
    {
      "cell_type": "markdown",
      "id": "fab1a880",
      "metadata": {
        "id": "fab1a880"
      },
      "source": [
        "<a name='3-3'></a>\n",
        "\n",
        "## Arreglos 3-D\n",
        "[regresar al contenido](#c1)\n",
        "\n",
        "Para acceder a elementos de arrays 3-D, podemos usar enteros separados por comas que representan las dimensiones y el índice del elemento. Esto implica especificar la coordenada en cada dimensión para llegar al elemento deseado en el array tridimensional."
      ]
    },
    {
      "cell_type": "code",
      "execution_count": null,
      "id": "5a5cf294",
      "metadata": {
        "id": "5a5cf294",
        "outputId": "22851dbb-2fde-421b-efb7-1319778d697b"
      },
      "outputs": [
        {
          "name": "stdout",
          "output_type": "stream",
          "text": [
            "6\n"
          ]
        }
      ],
      "source": [
        "arr = np.array([[[1, 2, 3], [4, 5, 6]], [[7, 8, 9], [10, 11, 12]]])\n",
        "\n",
        "print(arr[0, 1, 2])"
      ]
    },
    {
      "cell_type": "markdown",
      "id": "8f298f2e",
      "metadata": {
        "id": "8f298f2e"
      },
      "source": [
        "<a name='4'></a>\n",
        "\n",
        "# Slicing\n",
        "[regresar al contenido](#c1)\n",
        "\n",
        "El slicing en Python significa tomar elementos desde un índice dado hasta otro índice dado.\n",
        "\n",
        "Pasamos el slice en lugar del índice de esta manera: `[inicio:fin]`.\n",
        "\n",
        "También podemos definir el paso, de esta manera: `[inicio:fin:paso]`.\n",
        "\n",
        "- Si no especificamos el inicio, se considera 0.\n",
        "- Si no especificamos el fin, se considera la longitud del array en esa dimensión.\n",
        "- Si no especificamos el paso, se considera 1."
      ]
    },
    {
      "cell_type": "markdown",
      "id": "e42a3bc8",
      "metadata": {
        "id": "e42a3bc8"
      },
      "source": [
        "<a name='4-1'></a>\n",
        "\n",
        "## Arreglos 1-D\n",
        "[regresar al contenido](#c1)"
      ]
    },
    {
      "cell_type": "code",
      "execution_count": null,
      "id": "d67dccf1",
      "metadata": {
        "id": "d67dccf1",
        "outputId": "60b1ef4e-3b9f-4f7e-ed20-c79fdc23e44b"
      },
      "outputs": [
        {
          "name": "stdout",
          "output_type": "stream",
          "text": [
            "[2 3 4 5]\n"
          ]
        }
      ],
      "source": [
        "arr = np.array([1, 2, 3, 4, 5, 6, 7])\n",
        "\n",
        "print(arr[1:5])"
      ]
    },
    {
      "cell_type": "code",
      "execution_count": null,
      "id": "28293789",
      "metadata": {
        "id": "28293789",
        "outputId": "5132f463-e191-4d3c-c76a-a2743f306498"
      },
      "outputs": [
        {
          "name": "stdout",
          "output_type": "stream",
          "text": [
            "[5 6 7]\n"
          ]
        }
      ],
      "source": [
        "print(arr[4:])"
      ]
    },
    {
      "cell_type": "code",
      "execution_count": null,
      "id": "cc141216",
      "metadata": {
        "id": "cc141216",
        "outputId": "d282938e-8b28-40f3-8d4e-75f42e7eaafe"
      },
      "outputs": [
        {
          "name": "stdout",
          "output_type": "stream",
          "text": [
            "[1 2 3 4]\n"
          ]
        }
      ],
      "source": [
        "print(arr[:4])"
      ]
    },
    {
      "cell_type": "code",
      "execution_count": null,
      "id": "61601d55",
      "metadata": {
        "id": "61601d55",
        "outputId": "c5542fe1-c32c-4dab-f791-eff1adb36c00"
      },
      "outputs": [
        {
          "name": "stdout",
          "output_type": "stream",
          "text": [
            "[5 6]\n"
          ]
        }
      ],
      "source": [
        "print(arr[-3:-1])"
      ]
    },
    {
      "cell_type": "markdown",
      "id": "7ab644fb",
      "metadata": {
        "id": "7ab644fb"
      },
      "source": [
        "<a name='4-1-1'></a>\n",
        "\n",
        "### Paso\n",
        "[regresar al contenido](#c1)\n",
        "\n",
        "> `arreglo[inicio:fin:paso]`"
      ]
    },
    {
      "cell_type": "code",
      "execution_count": null,
      "id": "c679f34b",
      "metadata": {
        "id": "c679f34b",
        "outputId": "2c5ff707-a1c4-42e2-b4c6-b341eea4e8dc"
      },
      "outputs": [
        {
          "name": "stdout",
          "output_type": "stream",
          "text": [
            "[2 4]\n"
          ]
        }
      ],
      "source": [
        "arr = np.array([1, 2, 3, 4, 5, 6, 7])\n",
        "\n",
        "print(arr[1:5:2])"
      ]
    },
    {
      "cell_type": "code",
      "execution_count": null,
      "id": "8382b8ab",
      "metadata": {
        "id": "8382b8ab",
        "outputId": "536e7d51-8ffe-4193-fe96-d54f8851f0c7"
      },
      "outputs": [
        {
          "name": "stdout",
          "output_type": "stream",
          "text": [
            "[1 3 5 7]\n"
          ]
        }
      ],
      "source": [
        "arr = np.array([1, 2, 3, 4, 5, 6, 7])\n",
        "\n",
        "print(arr[::2])"
      ]
    },
    {
      "cell_type": "markdown",
      "id": "014d2c2f",
      "metadata": {
        "id": "014d2c2f"
      },
      "source": [
        "<a name='4-2'></a>\n",
        "\n",
        "## Arreglos 2-D\n",
        "[regresar al contenido](#c1)"
      ]
    },
    {
      "cell_type": "code",
      "execution_count": null,
      "id": "d69fb410",
      "metadata": {
        "id": "d69fb410",
        "outputId": "a8898a37-d0e7-4545-e1d9-115d4d11cdb4"
      },
      "outputs": [
        {
          "name": "stdout",
          "output_type": "stream",
          "text": [
            "[7 8 9]\n"
          ]
        }
      ],
      "source": [
        "arr = np.array([[1, 2, 3, 4, 5], [6, 7, 8, 9, 10]])\n",
        "\n",
        "print(arr[1, 1:4])"
      ]
    },
    {
      "cell_type": "code",
      "execution_count": null,
      "id": "73f603db",
      "metadata": {
        "id": "73f603db",
        "outputId": "dc8d6e86-9e65-434d-ce57-71030debdee6"
      },
      "outputs": [
        {
          "name": "stdout",
          "output_type": "stream",
          "text": [
            "[3 8]\n"
          ]
        }
      ],
      "source": [
        "arr = np.array([[1, 2, 3, 4, 5], [6, 7, 8, 9, 10]])\n",
        "\n",
        "print(arr[0:2, 2])"
      ]
    },
    {
      "cell_type": "code",
      "execution_count": null,
      "id": "f059a5a0",
      "metadata": {
        "id": "f059a5a0",
        "outputId": "a7b926ce-30c1-4dd4-e57f-e7087d0f3075"
      },
      "outputs": [
        {
          "name": "stdout",
          "output_type": "stream",
          "text": [
            "[[2 3 4]\n",
            " [7 8 9]]\n"
          ]
        }
      ],
      "source": [
        "arr = np.array([[1, 2, 3, 4, 5], [6, 7, 8, 9, 10]])\n",
        "\n",
        "print(arr[0:2, 1:4])"
      ]
    },
    {
      "cell_type": "markdown",
      "id": "202b7434",
      "metadata": {
        "id": "202b7434"
      },
      "source": [
        "<a name='5'></a>\n",
        "\n",
        "# Buscando en arreglos\n",
        "[regresar al contenido](#c1)\n",
        "\n",
        "Puedes buscar un valor específico en un array y obtener los índices que coinciden con ese valor.\n",
        "\n",
        "Para buscar en un array, utiliza el método `where()`. El método `where()` de NumPy te permite buscar elementos que cumplan con ciertas condiciones y devuelve los índices donde se encuentran esos elementos."
      ]
    },
    {
      "cell_type": "code",
      "execution_count": null,
      "id": "1ea1a138",
      "metadata": {
        "id": "1ea1a138",
        "outputId": "a13c1341-6ff3-4899-c518-80a2066d76af"
      },
      "outputs": [
        {
          "name": "stdout",
          "output_type": "stream",
          "text": [
            "(array([3, 5, 6], dtype=int64),)\n"
          ]
        }
      ],
      "source": [
        "arr = np.array([1, 2, 3, 4, 5, 4, 4])\n",
        "\n",
        "x = np.where(arr == 4)\n",
        "\n",
        "print(x)"
      ]
    },
    {
      "cell_type": "code",
      "execution_count": null,
      "id": "fc453229",
      "metadata": {
        "id": "fc453229",
        "outputId": "49fbb907-e88e-445a-e1e2-d07e1ffce1e4"
      },
      "outputs": [
        {
          "name": "stdout",
          "output_type": "stream",
          "text": [
            "(array([1, 3, 5, 7], dtype=int64),)\n"
          ]
        }
      ],
      "source": [
        "arr = np.array([1, 2, 3, 4, 5, 6, 7, 8])\n",
        "\n",
        "x = np.where(arr%2 == 0)\n",
        "\n",
        "print(x)"
      ]
    },
    {
      "cell_type": "markdown",
      "id": "872ad064",
      "metadata": {
        "id": "872ad064"
      },
      "source": [
        "Existe un método llamado `searchsorted()` que realiza una búsqueda binaria en el array y devuelve el índice donde se insertaría el valor especificado para mantener el orden de búsqueda.\n",
        "\n",
        "Se asume que el método `searchsorted()` se utiliza en arrays ordenados, ya que se basa en la búsqueda binaria, que funciona eficientemente en datos ordenados."
      ]
    },
    {
      "cell_type": "code",
      "execution_count": null,
      "id": "d6435014",
      "metadata": {
        "id": "d6435014",
        "outputId": "50df08b6-bab2-4b3c-a730-3eae8e72f20b"
      },
      "outputs": [
        {
          "name": "stdout",
          "output_type": "stream",
          "text": [
            "1\n"
          ]
        }
      ],
      "source": [
        "arr = np.array([6, 7, 8, 9])\n",
        "\n",
        "x = np.searchsorted(arr, 7)\n",
        "\n",
        "print(x)"
      ]
    },
    {
      "cell_type": "markdown",
      "id": "9122d7de",
      "metadata": {
        "id": "9122d7de"
      },
      "source": [
        "De forma predeterminada, se devuelve el índice más a la izquierda al buscar un valor en un array, pero podemos especificar `side='right'` para obtener en su lugar el índice más a la derecha."
      ]
    },
    {
      "cell_type": "code",
      "execution_count": null,
      "id": "80e59184",
      "metadata": {
        "id": "80e59184",
        "outputId": "4d566cc7-b9a0-45f1-f901-6e590ae91a5a"
      },
      "outputs": [
        {
          "name": "stdout",
          "output_type": "stream",
          "text": [
            "2\n"
          ]
        }
      ],
      "source": [
        "arr = np.array([6, 7, 8, 9])\n",
        "\n",
        "x = np.searchsorted(arr, 7, side='right')\n",
        "\n",
        "print(x)"
      ]
    },
    {
      "cell_type": "code",
      "execution_count": null,
      "id": "46398bfb",
      "metadata": {
        "id": "46398bfb",
        "outputId": "2b474eef-9d31-45ad-a537-d75ac755d8e6"
      },
      "outputs": [
        {
          "name": "stdout",
          "output_type": "stream",
          "text": [
            "[1 2 3]\n"
          ]
        }
      ],
      "source": [
        "arr = np.array([1, 3, 5, 7])\n",
        "\n",
        "x = np.searchsorted(arr, [2, 4, 6])\n",
        "\n",
        "print(x)"
      ]
    },
    {
      "cell_type": "markdown",
      "id": "1515cade",
      "metadata": {
        "id": "1515cade"
      },
      "source": [
        "<a name='6'></a>\n",
        "\n",
        "# Filtrado\n",
        "[regresar al contenido](#c1)"
      ]
    },
    {
      "cell_type": "code",
      "execution_count": null,
      "id": "5a5e4666",
      "metadata": {
        "id": "5a5e4666",
        "outputId": "ccdade77-53cd-4b9f-aea3-b04fc921f6a3"
      },
      "outputs": [
        {
          "name": "stdout",
          "output_type": "stream",
          "text": [
            "[False False  True  True]\n",
            "[43 44]\n"
          ]
        }
      ],
      "source": [
        "arr = np.array([41, 42, 43, 44])\n",
        "\n",
        "filter_arr = arr > 42\n",
        "\n",
        "newarr = arr[filter_arr]\n",
        "\n",
        "print(filter_arr)\n",
        "print(newarr)"
      ]
    },
    {
      "cell_type": "code",
      "execution_count": null,
      "id": "c4c4b7a9",
      "metadata": {
        "id": "c4c4b7a9",
        "outputId": "748e18cf-5035-4be6-e67e-09fd5db8eac0"
      },
      "outputs": [
        {
          "name": "stdout",
          "output_type": "stream",
          "text": [
            "[False  True False  True False  True False]\n",
            "[2 4 6]\n"
          ]
        }
      ],
      "source": [
        "arr = np.array([1, 2, 3, 4, 5, 6, 7])\n",
        "\n",
        "filter_arr = arr % 2 == 0\n",
        "\n",
        "newarr = arr[filter_arr]\n",
        "\n",
        "print(filter_arr)\n",
        "print(newarr)"
      ]
    }
  ],
  "metadata": {
    "kernelspec": {
      "display_name": "Python 3 (ipykernel)",
      "language": "python",
      "name": "python3"
    },
    "language_info": {
      "codemirror_mode": {
        "name": "ipython",
        "version": 3
      },
      "file_extension": ".py",
      "mimetype": "text/x-python",
      "name": "python",
      "nbconvert_exporter": "python",
      "pygments_lexer": "ipython3",
      "version": "3.9.12"
    },
    "colab": {
      "provenance": [],
      "include_colab_link": true
    }
  },
  "nbformat": 4,
  "nbformat_minor": 5
}