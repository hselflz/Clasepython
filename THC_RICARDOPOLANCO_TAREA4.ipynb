{
  "nbformat": 4,
  "nbformat_minor": 0,
  "metadata": {
    "colab": {
      "provenance": [],
      "include_colab_link": true
    },
    "kernelspec": {
      "name": "python3",
      "display_name": "Python 3"
    },
    "language_info": {
      "name": "python"
    }
  },
  "cells": [
    {
      "cell_type": "markdown",
      "metadata": {
        "id": "view-in-github",
        "colab_type": "text"
      },
      "source": [
        "<a href=\"https://colab.research.google.com/github/hselflz/Clasepython/blob/main/THC_RICARDOPOLANCO_TAREA4.ipynb\" target=\"_parent\"><img src=\"https://colab.research.google.com/assets/colab-badge.svg\" alt=\"Open In Colab\"/></a>"
      ]
    },
    {
      "cell_type": "markdown",
      "source": [
        "<font color=\"Red\" face=\"Comic Sans MS,arial\">\n",
        "  <h1 align=\"center\"><i>Tarea 4 de Python </i></h1>\n",
        "  </font>\n",
        "  \n",
        "> Elaborado por:\n",
        "\n",
        "> Miguel Ángel Carrillo Lucía. miguelcarrillo15@ciencias.unam.mx\n",
        "\n",
        "> Jesús Iván Coss Calderón. mat_ing_coss@ciencias.unam.mx"
      ],
      "metadata": {
        "id": "Acw5GbRohNTA"
      }
    },
    {
      "cell_type": "markdown",
      "source": [
        "**Objetivo general**\n",
        "\n",
        "* Demostrar los conocimientos adquiridos de bucles, listas y estructuras de control.\n",
        "\n",
        "**Objetivos particulares**\n",
        "\n",
        "* Aprender a resolver problemas prácticos usando python"
      ],
      "metadata": {
        "id": "-4IW6Nx2jBHt"
      }
    },
    {
      "cell_type": "markdown",
      "source": [
        "#**Ejercicio 1**:\n",
        "Diseña un programa que convierta dólares americanos a pesos mexicanos, euros, libras\n",
        "esterlinas, yuanes y rublos utilizando una tasa de cambio fija. Muestre la tasa de cambio e imprima los cinco resultados.\n"
      ],
      "metadata": {
        "id": "QZ7aCHF0TYtT"
      }
    },
    {
      "cell_type": "code",
      "source": [
        "def conversor (moneda):\n",
        "    moneda = input(\"¿A que moneda quieres convertir?: \")\n",
        "    if moneda == \"Pesos mexicanos\":\n",
        "        conv = int(input(\"Intrduce cuanto quieres convertir: \"))\n",
        "        resultado = conv*19.97\n",
        "        print(conv,\"son\",resultado,\"pesos mexicanos.\")\n",
        "    elif moneda == \"Euros\":\n",
        "        conv = int(input(\"Intrduce cuanto quieres convertir: \"))\n",
        "        resultado = conv*0.93\n",
        "        print(conv,\"son\",resultado,\"euros.\")\n",
        "    elif moneda == \"Libras esterlinas\":\n",
        "        conv = int(input(\"Intrduce cuanto quieres convertir: \"))\n",
        "        resultado = conv*0.77\n",
        "        print(conv,\"son\",resultado,\"Libras esterlinas.\")\n",
        "    elif moneda == \"Yuanes\":\n",
        "        conv = int(input(\"Intrduce cuanto quieres convertir: \"))\n",
        "        resultado = conv*7.12\n",
        "        print(conv,\"son\",resultado,\"yuanes.\")\n",
        "    elif moneda == \"Rublos\":\n",
        "        conv = int(input(\"Intrduce cuanto quieres convertir: \"))\n",
        "        resultado = conv*97.24\n",
        "        print(conv,\"son\",resultado,\"Rublos.\")\n",
        "    else:\n",
        "        print(\"Tipo de moneda incorrecta.\")\n",
        "conversor(moneda=\"pesos méxicanos\")"
      ],
      "metadata": {
        "id": "TBR-3raL8Epc",
        "colab": {
          "base_uri": "https://localhost:8080/"
        },
        "outputId": "c25d2924-ffe3-4e74-da46-0d1def9dcc61"
      },
      "execution_count": 1,
      "outputs": [
        {
          "output_type": "stream",
          "name": "stdout",
          "text": [
            "¿A que moneda quieres convertir?: Rublos\n",
            "Intrduce cuanto quieres convertir: 10\n",
            "10 son 972.4 Rublos.\n"
          ]
        }
      ]
    },
    {
      "cell_type": "markdown",
      "source": [
        "#**Ejercicio 2**:\n",
        "Escribe un programa que pida al usuario su edad y clasifique la entrada en 'niño',\n",
        " 'adolescente', 'adulto' o 'adulto mayor'."
      ],
      "metadata": {
        "id": "G-aCihICT7hi"
      }
    },
    {
      "cell_type": "code",
      "source": [
        "edad = int(input(\"Introduce tu edad: \"))    #Pedimos al usuario introducir su edad\n",
        "\n",
        "#Hacemos una cadena de if's con la variable que designamos para edad\n",
        "if edad>0 and edad<12:\n",
        "    print(\"Eres un niño.\")\n",
        "#Hacemos los parametros para cada edad. Y asi consecutivamente.\n",
        "\n",
        "elif edad>= 12 and edad <=26:\n",
        "    print(\"Eres un adolescente.\")\n",
        "\n",
        "elif edad>= 27 and edad <=59:\n",
        "    print(\"Eres un Adulto.\")\n",
        "\n",
        "elif edad>=60:\n",
        "    print(\"Eres un Adulto mayor.\")"
      ],
      "metadata": {
        "id": "LeEsrq4p8FOs",
        "colab": {
          "base_uri": "https://localhost:8080/"
        },
        "outputId": "fdc06d3d-b737-45ea-bdf1-2e4781764712"
      },
      "execution_count": 4,
      "outputs": [
        {
          "output_type": "stream",
          "name": "stdout",
          "text": [
            "Introduce tu edad: 1\n",
            "Eres un niño.\n"
          ]
        }
      ]
    },
    {
      "cell_type": "markdown",
      "source": [
        "#**Ejercicio 3**:\n",
        "Desarrolla un programa que calcule el precio final de un producto después de aplicar un descuento.\n",
        " El usuario debe ingresar el precio original y el porcentaje de descuento. Imprima el precio final."
      ],
      "metadata": {
        "id": "oM_h9APNTIW9"
      }
    },
    {
      "cell_type": "code",
      "source": [
        "#Preguntamos al usuario por los 2 valores para hacer la conversión\n",
        "precioor = int(input(\"Introduce el valor sin el descuento: \"))\n",
        "descuento = int(input(\"Introduce el valor del descuento en porcentaje: \"))\n",
        "\n",
        "\n",
        "#Creamos una función\n",
        "def conversor():\n",
        "    #Aplicamos le regla de 3\n",
        "    precio = descuento*precioor/100\n",
        "    print(precio)\n",
        "    preciofinal = precioor - precio\n",
        "    print(\"El precio aplicando el descuento es de:\", preciofinal)\n",
        "\n",
        "conversor()"
      ],
      "metadata": {
        "id": "ay0KWLXf8F5k",
        "colab": {
          "base_uri": "https://localhost:8080/"
        },
        "outputId": "bd9ef914-079c-4cb0-c19c-48ad76d65d95"
      },
      "execution_count": 10,
      "outputs": [
        {
          "output_type": "stream",
          "name": "stdout",
          "text": [
            "Introduce el valor sin el descuento: 1000000\n",
            "Introduce el valor del descuento en porcentaje: 50\n",
            "500000.0\n",
            "El precio aplicando el descuento es de: 500000.0\n"
          ]
        }
      ]
    },
    {
      "cell_type": "markdown",
      "source": [
        "#**Ejercicio 4**:\n",
        "Crea un script que determine cuál de tres números introducidos por el usuario es el mayor,\n",
        "usando sentencias IF anidadas o múltiples ELIF."
      ],
      "metadata": {
        "id": "pXTw_US7UIhy"
      }
    },
    {
      "cell_type": "code",
      "source": [
        "#Le pedimos al usuario introducir sus 3 números\n",
        "num1 = int(input(\"Introduce tu primer número: \"))\n",
        "num2 = int(input(\"Introduce tu segundo número: \"))\n",
        "num3 = int(input(\"Introduce tu tercer número: \"))\n",
        "\n",
        "#Como se pide usar if y elif lo aplicamos usando los casos donde se cumpla.\n",
        "\n",
        "if num1 > num2 > num3:\n",
        "    print(num1, \"Tu primer número es mayor\")\n",
        "elif num1 > num3 > num2:\n",
        "    print(num1, \"Tu primer número es mayor\")\n",
        "\n",
        "elif num2 > num3 > num1:\n",
        "    print(num2, \"Tu segundo número es mayor\")\n",
        "elif num2 > num1 > num3:\n",
        "    print(num2, \"Tu segundo número es mayor\")\n",
        "\n",
        "elif num3 > num2 > num1:\n",
        "    print(num3, \"Tu tercer número es mayor\")\n",
        "elif num3 > num1 > num2:\n",
        "    print(num3, \"Tu tercer número es mayor\")"
      ],
      "metadata": {
        "id": "oSJXRXBb8Gck",
        "colab": {
          "base_uri": "https://localhost:8080/"
        },
        "outputId": "71cebbaf-356e-48be-fe0e-86856badf1fd"
      },
      "execution_count": 11,
      "outputs": [
        {
          "output_type": "stream",
          "name": "stdout",
          "text": [
            "Introduce tu primer número: 20200\n",
            "Introduce tu segundo número: 1234140\n",
            "Introduce tu tercer número: 125810\n",
            "1234140 Tu segundo número es mayor\n"
          ]
        }
      ]
    },
    {
      "cell_type": "markdown",
      "source": [
        "#**Ejercicio 5**:\n",
        "Programe una función que resuelva ecuaciones de segundo grado utilizando la fórmula general.\n",
        "El usuario debe ingresar los valores de a, b y c. Genere valores por default por si el usuario no ingresa\n",
        "un número entero o flotante. Además, calcule el valor del discriminante\n",
        "(b^2 - 4ac) y determine si tiene soluciones reales, soluciones complejas. Imprima el resultado."
      ],
      "metadata": {
        "id": "LJgQNYz1Tmaj"
      }
    },
    {
      "cell_type": "code",
      "source": [
        "from math import sqrt\n",
        "\n",
        "# pedimos los coeficientes al usuario, tienen que ser flotantes para numeros con decimales\n",
        "a = float(input(\"Introduce el valor para a: \"))\n",
        "b = float(input(\"Introduce el valor para b: \"))\n",
        "c = float(input(\"Introduce el valor para c: \"))\n",
        "\n",
        "# calculamos el resultado en base a la formula\n",
        "resultado =  b * b - 4 * a * c\n",
        "\n",
        "if resultado < 0: # comprobamos si no existen soluciones reales\n",
        "    print(f'La ecuación no tiene soluciones reales.')\n",
        "else:\n",
        "    raiz = sqrt(resultado)      # calculamos la raíz\n",
        "    x_1 = (-b + raiz) / (2 * a)     # calculamos una primera solución\n",
        "    if resultado != 0:          # comprobamos si hay otra solución\n",
        "        x_2 = (-b - raiz) / (2 * a) # calculamos la segunda solución\n",
        "        print(f'Las soluciones son {x_1} y {x_2}.') # mostramos las dos soluciones\n",
        "    else:\n",
        "        print(f'La única solución es x = {x_1}') # mostramos la única solución4"
      ],
      "metadata": {
        "id": "L1CQPnlC8G9c",
        "colab": {
          "base_uri": "https://localhost:8080/"
        },
        "outputId": "3786e292-7c9e-421f-b0bf-7cf0e937045c"
      },
      "execution_count": 14,
      "outputs": [
        {
          "output_type": "stream",
          "name": "stdout",
          "text": [
            "Introduce el valor para a: 56\n",
            "Introduce el valor para b: 47\n",
            "Introduce el valor para c: -56\n",
            "Las soluciones son 0.6648386445670708 y -1.504124358852785.\n"
          ]
        }
      ]
    },
    {
      "cell_type": "markdown",
      "source": [
        "#**Ejercicio 6**\n",
        "\n",
        " Escriba una función que reciba una lista de números y devuelva dos listas: una con los números positivos y otra con los negativos."
      ],
      "metadata": {
        "id": "1VC6sG1wix_2"
      }
    },
    {
      "cell_type": "code",
      "source": [],
      "metadata": {
        "id": "j-nKpLKG8HdU"
      },
      "execution_count": null,
      "outputs": []
    },
    {
      "cell_type": "markdown",
      "source": [
        "#**Ejercicio 7**\n",
        "\n",
        "Escriba una función que reciba una lista de datos (la de abajo) y devuelva listas con los datos filtrados. Este programa debe separar los datos en **int**, **str**, **bool**, **float**. **Hint**: use la función **append** para insertar datos en las listas."
      ],
      "metadata": {
        "id": "B3DOqZgpjxMf"
      }
    },
    {
      "cell_type": "code",
      "source": [
        "Datos= [5, 2.4, \"hola\", 7, 10, 3.14,True,False, \"Hi\", 0, 0.265]# lista a usar"
      ],
      "metadata": {
        "id": "5zQMRLNYis12"
      },
      "execution_count": null,
      "outputs": []
    },
    {
      "cell_type": "code",
      "source": [],
      "metadata": {
        "id": "0HH0Debs8Joc"
      },
      "execution_count": null,
      "outputs": []
    },
    {
      "cell_type": "markdown",
      "source": [
        "#**Ejercicio 8**:\n",
        "\n",
        "Imprimir pirámide de asteriscos\n",
        "Descripción: Crea una función que imprima una pirámide de asteriscos usando bucles anidados, donde el número de niveles de la pirámide sea un valor dado."
      ],
      "metadata": {
        "id": "Q7XYGpfGkuD4"
      }
    },
    {
      "cell_type": "code",
      "source": [
        "def piramide_asteriscos(niveles):\n",
        "\n",
        "  for i in range(niveles):\n",
        "    # Espacios en blanco antes de los asteriscos\n",
        "\n",
        "    for j in range(niveles - 1):\n",
        "      print(end=\"\")\n",
        "    # Asteriscos\n",
        "\n",
        "    for j in range(2 * i + 1):\n",
        "      print(\"*\", end=\"\")\n",
        "    print()\n",
        "niveles_deseados = int(input(\"Introduce cuantos niveles quieres que tenga la piramide: \"))\n",
        "piramide_asteriscos(niveles_deseados)"
      ],
      "metadata": {
        "colab": {
          "base_uri": "https://localhost:8080/"
        },
        "id": "lKlZ67KRkXwn",
        "outputId": "0f3c435c-bf7b-477e-e51d-afb174622f67"
      },
      "execution_count": 16,
      "outputs": [
        {
          "output_type": "stream",
          "name": "stdout",
          "text": [
            "Introduce cuantos niveles quieres que tenga la piramide: 10\n",
            "*\n",
            "***\n",
            "*****\n",
            "*******\n",
            "*********\n",
            "***********\n",
            "*************\n",
            "***************\n",
            "*****************\n",
            "*******************\n"
          ]
        }
      ]
    },
    {
      "cell_type": "markdown",
      "source": [
        "#**Ejercicio 9**:\n",
        "\n",
        "Escriba una función que calcule el factorial de un número, el cual debe ser ingresado por el usuario, después usted debe validar que sea un número natural mayor o igual a cero y en caso de que ingrese un número negativo, una letra o cadena, debe pedir nuevamente el número al usuario."
      ],
      "metadata": {
        "id": "xL6YMsdClOy9"
      }
    },
    {
      "cell_type": "code",
      "source": [
        "def factorial(numero):\n",
        "#Hacemos los calculos para el vectorial y definimos para 0 y 1\n",
        "  if numero == 0:\n",
        "    return 1\n",
        "  else:\n",
        "    factorial = 1\n",
        "    for i in range(1, numero + 1):\n",
        "      factorial *= i\n",
        "    return factorial\n",
        "\n",
        "#Hacemos el bucle para que se repita mientras no sea un entero\n",
        "while True:\n",
        "  try:\n",
        "    num = int(input(\"Ingrese un número natural (0 o mayor): \"))\n",
        "    if num >= 0:\n",
        "      resultado = factorial(num)\n",
        "\n",
        "      if resultado:\n",
        "        print(\"El factorial de\", num, \"es:\", resultado)\n",
        "        break\n",
        "    else:\n",
        "      print(\"Ingrese un número natural válido.\")\n",
        "\n",
        "      #Usaremos ValueError para evitar que el codigo truene\n",
        "  except ValueError:\n",
        "    print(\"Por favor, ingrese un número entero.\")"
      ],
      "metadata": {
        "id": "JYhyNp21l43j",
        "colab": {
          "base_uri": "https://localhost:8080/"
        },
        "outputId": "95192c8a-3b51-418b-fee8-2f63548018ad"
      },
      "execution_count": 20,
      "outputs": [
        {
          "output_type": "stream",
          "name": "stdout",
          "text": [
            "Ingrese un número natural (0 o mayor): 10\n",
            "El factorial de 10 es: 3628800\n"
          ]
        }
      ]
    },
    {
      "cell_type": "markdown",
      "source": [
        "#**Ejercicio 10**:\n",
        "Programar una función que calcule la distancia entre dos puntos en el plano cartesiano,\n",
        "dadas sus coordenadas (x1, y1) y (x2, y2)."
      ],
      "metadata": {
        "id": "8z6e_aduTxWh"
      }
    },
    {
      "cell_type": "code",
      "source": [
        "#Distancias en el plano Cartesiano\n",
        "#Pediremos las ditancias en las coords. x , y\n",
        "import math\n",
        "\n",
        "print(\"Las coordenadas en el plano cartesiano se dan por (x,y) entonces: \")\n",
        "x1 = int(input(\"Introduce tu primer valor de x: \"))\n",
        "y1 = int(input(\"Introduce tu primer valor de y: \"))\n",
        "\n",
        "x2 = int(input(\"Introduce tu segundo valor de x: \"))\n",
        "y2 = int(input(\"Introduce tu segundo valor de y: \"))\n",
        "\n",
        "#Aplicamos la \"Formula\" para distancias\n",
        "x3 = (x2-x1)*(x2-x1)\n",
        "y3 = (y2-y1)*(y2-y1)\n",
        "\n",
        "#Cambiamos las variables por la suma y la raiz de el resultado\n",
        "distancia = x3 + y3\n",
        "distancia = math.sqrt(distancia)\n",
        "\n",
        "print(\"La distancia entre\",\"(\",x1,\",\",y1,\") y \",\"(\",x2,\",\",y2,\") es:\", distancia, \"aproximadamente.\")"
      ],
      "metadata": {
        "id": "rKes7ySm8LJy"
      },
      "execution_count": null,
      "outputs": []
    },
    {
      "cell_type": "markdown",
      "source": [
        "#**Ejercicio 11**:\n",
        "Programe un script que determine si dos rectas dadas por las ecuaciones y1=m1x + b1 y y2=m2x+b2 se\n",
        "intersectan, son paralelas o coincidentes. Utilice estructuras de control (IF - ELSE)\n",
        "para manejar los diferentes casos.\n"
      ],
      "metadata": {
        "id": "YZ1CmeGNUfd6"
      }
    },
    {
      "cell_type": "code",
      "source": [],
      "metadata": {
        "id": "oTNVz98W8LuZ"
      },
      "execution_count": null,
      "outputs": []
    },
    {
      "cell_type": "markdown",
      "source": [
        "#**Ejercicio 12**:\n",
        "Iván y Miguel quieren jugar a los dados con las siguientes reglas:\n",
        "\n",
        "    Si sale 1, vuelven a lanzar.\n",
        "    Si sale 6, quedan empatados.\n",
        "    Si sale 2 ó 3 gana Iván.\n",
        "    Si sale 4 ó 5 gana Miguel.\n",
        "\n",
        "Haga un programa que le permita jugar a Iván y Miguel utilizando el condicional while. Se debe imprimir el mensaje de acuerdo a las reglas establecidas.\n",
        "**Hint** = Utilice la librería random para generar los números aleatorios."
      ],
      "metadata": {
        "id": "qdHirPx6I2ib"
      }
    },
    {
      "cell_type": "code",
      "source": [
        "#Aplicamos \\n para que se hagan saltos entre lineas y las intrucciones queden mas bonitas\n",
        "print(\"Si sale 1, vuelven a lanzar. \\nSi sale 6, quedan empatados. \\nSi sale 2 ó 3 gana Iván. \\nSi sale 4 ó 5 gana Miguel.\")\n",
        "#usamos import random para que nos de un número entero random, y especificamos en los enteros \"rondit\" y ponemos los parametros (1,6)\n",
        "import random\n",
        "dado = random.randint(1, 6)\n",
        "\n",
        "while dado == 1:\n",
        "        print(dado)\n",
        "        print(\"Vuelven a tirar\")\n",
        "        break\n",
        "\n",
        "if dado == 6:\n",
        "    print(dado)\n",
        "    print(\"Es un empate.\")\n",
        "\n",
        "elif dado == 2 or dado == 3:\n",
        "    print(dado)\n",
        "    print(\"Gana Iván.\")\n",
        "\n",
        "elif dado == 4 or dado==5:\n",
        "    print(dado)\n",
        "    print(\"Gana Miguel.\")"
      ],
      "metadata": {
        "id": "dDHP_-CG8Nqg"
      },
      "execution_count": null,
      "outputs": []
    }
  ]
}